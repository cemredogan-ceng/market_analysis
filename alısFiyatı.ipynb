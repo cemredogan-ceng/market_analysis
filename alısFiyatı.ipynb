{
 "cells": [
  {
   "cell_type": "code",
   "execution_count": 1,
   "id": "3ab26e2e-ec55-44f5-acac-b7e14e0cd7ac",
   "metadata": {},
   "outputs": [
    {
     "ename": "ParserError",
     "evalue": "Error tokenizing data. C error: Expected 1 fields in line 131, saw 2\n",
     "output_type": "error",
     "traceback": [
      "\u001b[1;31m---------------------------------------------------------------------------\u001b[0m",
      "\u001b[1;31mParserError\u001b[0m                               Traceback (most recent call last)",
      "Cell \u001b[1;32mIn[1], line 5\u001b[0m\n\u001b[0;32m      3\u001b[0m \u001b[38;5;66;03m# .xlsx dosyasını yükle\u001b[39;00m\n\u001b[0;32m      4\u001b[0m excel_file \u001b[38;5;241m=\u001b[39m \u001b[38;5;124m\"\u001b[39m\u001b[38;5;124manalizVerileri.csv\u001b[39m\u001b[38;5;124m\"\u001b[39m  \u001b[38;5;66;03m# .xlsx dosyanızın adı\u001b[39;00m\n\u001b[1;32m----> 5\u001b[0m data \u001b[38;5;241m=\u001b[39m pd\u001b[38;5;241m.\u001b[39mread_csv(excel_file)\n\u001b[0;32m      7\u001b[0m \u001b[38;5;66;03m# .csv formatına dönüştür ve kayd\u001b[39;00m\n\u001b[0;32m      8\u001b[0m \n\u001b[0;32m      9\u001b[0m \u001b[38;5;66;03m# Temel istatistikleri göster\u001b[39;00m\n\u001b[0;32m     10\u001b[0m \u001b[38;5;28mprint\u001b[39m(\u001b[38;5;124m\"\u001b[39m\u001b[38;5;124mVeri Çerçevesi:\u001b[39m\u001b[38;5;124m\"\u001b[39m)\n",
      "File \u001b[1;32m~\\anaconda3\\Lib\\site-packages\\pandas\\io\\parsers\\readers.py:1026\u001b[0m, in \u001b[0;36mread_csv\u001b[1;34m(filepath_or_buffer, sep, delimiter, header, names, index_col, usecols, dtype, engine, converters, true_values, false_values, skipinitialspace, skiprows, skipfooter, nrows, na_values, keep_default_na, na_filter, verbose, skip_blank_lines, parse_dates, infer_datetime_format, keep_date_col, date_parser, date_format, dayfirst, cache_dates, iterator, chunksize, compression, thousands, decimal, lineterminator, quotechar, quoting, doublequote, escapechar, comment, encoding, encoding_errors, dialect, on_bad_lines, delim_whitespace, low_memory, memory_map, float_precision, storage_options, dtype_backend)\u001b[0m\n\u001b[0;32m   1013\u001b[0m kwds_defaults \u001b[38;5;241m=\u001b[39m _refine_defaults_read(\n\u001b[0;32m   1014\u001b[0m     dialect,\n\u001b[0;32m   1015\u001b[0m     delimiter,\n\u001b[1;32m   (...)\u001b[0m\n\u001b[0;32m   1022\u001b[0m     dtype_backend\u001b[38;5;241m=\u001b[39mdtype_backend,\n\u001b[0;32m   1023\u001b[0m )\n\u001b[0;32m   1024\u001b[0m kwds\u001b[38;5;241m.\u001b[39mupdate(kwds_defaults)\n\u001b[1;32m-> 1026\u001b[0m \u001b[38;5;28;01mreturn\u001b[39;00m _read(filepath_or_buffer, kwds)\n",
      "File \u001b[1;32m~\\anaconda3\\Lib\\site-packages\\pandas\\io\\parsers\\readers.py:626\u001b[0m, in \u001b[0;36m_read\u001b[1;34m(filepath_or_buffer, kwds)\u001b[0m\n\u001b[0;32m    623\u001b[0m     \u001b[38;5;28;01mreturn\u001b[39;00m parser\n\u001b[0;32m    625\u001b[0m \u001b[38;5;28;01mwith\u001b[39;00m parser:\n\u001b[1;32m--> 626\u001b[0m     \u001b[38;5;28;01mreturn\u001b[39;00m parser\u001b[38;5;241m.\u001b[39mread(nrows)\n",
      "File \u001b[1;32m~\\anaconda3\\Lib\\site-packages\\pandas\\io\\parsers\\readers.py:1923\u001b[0m, in \u001b[0;36mTextFileReader.read\u001b[1;34m(self, nrows)\u001b[0m\n\u001b[0;32m   1916\u001b[0m nrows \u001b[38;5;241m=\u001b[39m validate_integer(\u001b[38;5;124m\"\u001b[39m\u001b[38;5;124mnrows\u001b[39m\u001b[38;5;124m\"\u001b[39m, nrows)\n\u001b[0;32m   1917\u001b[0m \u001b[38;5;28;01mtry\u001b[39;00m:\n\u001b[0;32m   1918\u001b[0m     \u001b[38;5;66;03m# error: \"ParserBase\" has no attribute \"read\"\u001b[39;00m\n\u001b[0;32m   1919\u001b[0m     (\n\u001b[0;32m   1920\u001b[0m         index,\n\u001b[0;32m   1921\u001b[0m         columns,\n\u001b[0;32m   1922\u001b[0m         col_dict,\n\u001b[1;32m-> 1923\u001b[0m     ) \u001b[38;5;241m=\u001b[39m \u001b[38;5;28mself\u001b[39m\u001b[38;5;241m.\u001b[39m_engine\u001b[38;5;241m.\u001b[39mread(  \u001b[38;5;66;03m# type: ignore[attr-defined]\u001b[39;00m\n\u001b[0;32m   1924\u001b[0m         nrows\n\u001b[0;32m   1925\u001b[0m     )\n\u001b[0;32m   1926\u001b[0m \u001b[38;5;28;01mexcept\u001b[39;00m \u001b[38;5;167;01mException\u001b[39;00m:\n\u001b[0;32m   1927\u001b[0m     \u001b[38;5;28mself\u001b[39m\u001b[38;5;241m.\u001b[39mclose()\n",
      "File \u001b[1;32m~\\anaconda3\\Lib\\site-packages\\pandas\\io\\parsers\\c_parser_wrapper.py:234\u001b[0m, in \u001b[0;36mCParserWrapper.read\u001b[1;34m(self, nrows)\u001b[0m\n\u001b[0;32m    232\u001b[0m \u001b[38;5;28;01mtry\u001b[39;00m:\n\u001b[0;32m    233\u001b[0m     \u001b[38;5;28;01mif\u001b[39;00m \u001b[38;5;28mself\u001b[39m\u001b[38;5;241m.\u001b[39mlow_memory:\n\u001b[1;32m--> 234\u001b[0m         chunks \u001b[38;5;241m=\u001b[39m \u001b[38;5;28mself\u001b[39m\u001b[38;5;241m.\u001b[39m_reader\u001b[38;5;241m.\u001b[39mread_low_memory(nrows)\n\u001b[0;32m    235\u001b[0m         \u001b[38;5;66;03m# destructive to chunks\u001b[39;00m\n\u001b[0;32m    236\u001b[0m         data \u001b[38;5;241m=\u001b[39m _concatenate_chunks(chunks)\n",
      "File \u001b[1;32mparsers.pyx:838\u001b[0m, in \u001b[0;36mpandas._libs.parsers.TextReader.read_low_memory\u001b[1;34m()\u001b[0m\n",
      "File \u001b[1;32mparsers.pyx:905\u001b[0m, in \u001b[0;36mpandas._libs.parsers.TextReader._read_rows\u001b[1;34m()\u001b[0m\n",
      "File \u001b[1;32mparsers.pyx:874\u001b[0m, in \u001b[0;36mpandas._libs.parsers.TextReader._tokenize_rows\u001b[1;34m()\u001b[0m\n",
      "File \u001b[1;32mparsers.pyx:891\u001b[0m, in \u001b[0;36mpandas._libs.parsers.TextReader._check_tokenize_status\u001b[1;34m()\u001b[0m\n",
      "File \u001b[1;32mparsers.pyx:2061\u001b[0m, in \u001b[0;36mpandas._libs.parsers.raise_parser_error\u001b[1;34m()\u001b[0m\n",
      "\u001b[1;31mParserError\u001b[0m: Error tokenizing data. C error: Expected 1 fields in line 131, saw 2\n"
     ]
    }
   ],
   "source": [
    "import pandas as pd\n",
    "\n",
    "# .xlsx dosyasını yükle\n",
    "excel_file = \"analizVerileri.csv\"  # .xlsx dosyanızın adı\n",
    "data = pd.read_csv(excel_file)\n",
    "\n",
    "# .csv formatına dönüştür ve kayd\n",
    "\n",
    "# Temel istatistikleri göster\n",
    "print(\"Veri Çerçevesi:\")\n",
    "print(data.head())  # İlk 5 satırı göster\n",
    "\n",
    "print(\"\\nTemel İstatistikler:\")\n",
    "print(data.describe())  # Temel istatistikleri hesapla\n",
    "\n",
    "# Null (NaN) değerlerin sayısını göster\n",
    "print(\"\\nNull Değer Sayıları:\")\n",
    "print(data.isnull().sum())  # Her sütunda kaç tane null değer olduğunu göster\n"
   ]
  },
  {
   "cell_type": "code",
   "execution_count": 3,
   "id": "15c87766-505c-4ade-bd3e-cda0accb30a2",
   "metadata": {},
   "outputs": [],
   "source": [
    "pd.set_option('display.max_rows', None)  # Tüm satırları göster\n",
    "pd.set_option('display.max_columns', None)  # Tüm sütunları göster\n",
    "pd.set_option('display.width', 1000)  # Genişlik sınırını artır\n",
    "pd.set_option('display.float_format', lambda x: f'{x:.2f}')  # Sayıları daha okunabilir biçimde göster\n"
   ]
  },
  {
   "cell_type": "code",
   "execution_count": 7,
   "id": "c17b202c-9047-4dec-a06b-6ca59da820a8",
   "metadata": {},
   "outputs": [
    {
     "name": "stdout",
     "output_type": "stream",
     "text": [
      "ID                   0\n",
      "ITEMCODE             0\n",
      "ITEMNAME             0\n",
      "FICHENO              0\n",
      "DATE_                0\n",
      "AMOUNT               0\n",
      "PRICE                0\n",
      "LINENETTOTAL         0\n",
      "LINENET              0\n",
      "BRANCHNR             0\n",
      "BRANCH               0\n",
      "SALESMAN             0\n",
      "CITY                 0\n",
      "REGION               0\n",
      "LATITUDE             0\n",
      "LONGITUDE            0\n",
      "CLIENTCODE           0\n",
      "CLIENTNAME           0\n",
      "BRANDCODE            0\n",
      "BRAND                0\n",
      "CATEGORY_NAME1       0\n",
      "CATEGORY_NAME2    1419\n",
      "CATEGORY_NAME3    3030\n",
      "STARTDATE            0\n",
      "ENDDATE              0\n",
      "GENDER               0\n",
      "dtype: int64\n"
     ]
    }
   ],
   "source": [
    "print(data.isnull().sum())"
   ]
  },
  {
   "cell_type": "code",
   "execution_count": 8,
   "id": "c23afaac-fda6-4bef-a532-6f1fc6d8ac1d",
   "metadata": {},
   "outputs": [
    {
     "name": "stdout",
     "output_type": "stream",
     "text": [
      "ID                   0\n",
      "ITEMCODE             0\n",
      "ITEMNAME             0\n",
      "FICHENO              0\n",
      "DATE_                0\n",
      "AMOUNT               0\n",
      "PRICE                0\n",
      "LINENETTOTAL         0\n",
      "LINENET              0\n",
      "BRANCHNR             0\n",
      "BRANCH               0\n",
      "SALESMAN             0\n",
      "CITY                 0\n",
      "REGION               0\n",
      "LATITUDE             0\n",
      "LONGITUDE            0\n",
      "CLIENTCODE           0\n",
      "CLIENTNAME           0\n",
      "BRANDCODE            0\n",
      "BRAND                0\n",
      "CATEGORY_NAME1       0\n",
      "CATEGORY_NAME2    1419\n",
      "CATEGORY_NAME3    3030\n",
      "STARTDATE            0\n",
      "ENDDATE              0\n",
      "GENDER               0\n",
      "dtype: int64\n"
     ]
    }
   ],
   "source": [
    "print(data.isnull().sum())"
   ]
  },
  {
   "cell_type": "code",
   "execution_count": 9,
   "id": "df44fb79-2074-4f58-a0f2-d912865dc67a",
   "metadata": {},
   "outputs": [
    {
     "data": {
      "text/plain": [
       "247"
      ]
     },
     "execution_count": 9,
     "metadata": {},
     "output_type": "execute_result"
    }
   ],
   "source": [
    "len(data['ITEMNAME'].loc[(data.isna().any(axis=1))].unique())"
   ]
  },
  {
   "cell_type": "code",
   "execution_count": 10,
   "id": "5a381da3-c54f-46d4-8170-59ddf979afa1",
   "metadata": {},
   "outputs": [],
   "source": [
    "data.loc[(data['CATEGORY_NAME2'] == 'SEBZE') & (data.isna().any(axis=1)), 'CATEGORY_NAME3']=\"SEBZE\""
   ]
  },
  {
   "cell_type": "code",
   "execution_count": 11,
   "id": "b19a9bb0-ada6-4bdc-9956-3b922da59244",
   "metadata": {},
   "outputs": [
    {
     "data": {
      "text/plain": [
       "CATEGORY_NAME1     CATEGORY_NAME2           CATEGORY_NAME3          \n",
       "BEBEK              BEBEK BAKIM              BEBEK BAKIM ARAÇLARI           38\n",
       "                                            BEBEK BAKIM MALZEMELERİ       394\n",
       "                                            LOSYON VE SÜTLER                2\n",
       "                                            PUDRALAR                        6\n",
       "                                            SABUNLARI                      26\n",
       "                                            ŞAMPUANLAR                     93\n",
       "                   HAZIR YEMEK MAMA         BEBEK BİSKÜVİLERİ             844\n",
       "                                            BİBERON MAMALARI              867\n",
       "                                            HAZIR MAMALAR                1196\n",
       "                   ÇOCUK BEZLERİ            BEZLER                       1779\n",
       "DETERJAN TEMİZLİK  BULAŞIK YIKAMA           ELDE YIKAMA                  3156\n",
       "                                            MAKİNE                       1174\n",
       "                   EV TEMİZLEYİCİ           AHŞAP TEMİZLEYİCİ             136\n",
       "                                            AYAKKABI BAKIM                560\n",
       "                                            CAM PARLAK YÜZEY              220\n",
       "                                            HALI ŞAMPUAN                  146\n",
       "                                            HAŞERE ÖLDÜRÜCÜ                77\n",
       "                                            LEKE ÇIKARICI                  55\n",
       "                                            MUTFAK BANYO TEMİZLEYİCİ     1852\n",
       "                                            ODA KOKULARI                  450\n",
       "                                            TUVALET TEMİZLEYİCİ           981\n",
       "                                            YÜZEY TEMİZLEYİCİ            1231\n",
       "                   EV TEMİZLİK GEREÇLERİ    BOYA                            3\n",
       "                                            FIRÇA SÜPÜRGE                 188\n",
       "                                            HAŞERE ÖLDÜRÜCÜ                 1\n",
       "                                            TEMİZLİK AMAÇLI BEZLER       2746\n",
       "                                            TEMİZLİK SETİ                 126\n",
       "                   ÇAMAŞIR YIKAMA           SIVI JEL DETERJAN             431\n",
       "                                            TOZ DETERJAN                 2528\n",
       "                                            TOZ SABUNLAR                    3\n",
       "                                            ÇAMAŞIR KATKILARI             252\n",
       "                                            ÇAMAŞIR RENK KORUYUCU         437\n",
       "                                            ÇAMAŞIR SULARI               3191\n",
       "                                            ÇAMAŞIR YUMUŞATICI           2064\n",
       "ET TAVUK           ET ŞARKÜTERİ             KAVURMA                        18\n",
       "                                            PASTIRMA                       31\n",
       "                                            SALAM                        3959\n",
       "                                            SOSİS                        1126\n",
       "                                            SUCUK                        2099\n",
       "                   KIRMIZI ET               DANA                         4864\n",
       "                                            KUZU                          400\n",
       "                   KÜMES HAYVANLARI         PİLİÇ                        5637\n",
       "EV                 ELEKTRONİK               AYDINLATMA                    736\n",
       "                                            PİL                           638\n",
       "                   EV TEKSTİL               GENEL                           1\n",
       "                                            MUTFAK                         86\n",
       "                   KOZMETİK                 BOYA                            1\n",
       "                   MUTFAK EŞYA GEREÇLERİ    CAM EL ALETLERİ              2384\n",
       "                                            METAL EL ALETLERİ             129\n",
       "                                            MUTFAK SARF MALZEMESİ        4173\n",
       "                                            PLASTİK EV GEREÇLERİ          908\n",
       "                                            PİŞİRME GEREÇLERİ             201\n",
       "                                            SERVİS MALZEMELERİ             25\n",
       "                                            ÜRÜN SAKLAMA                  486\n",
       "                                            NaN                           149\n",
       "                   TERLİK                   TERLİK                         68\n",
       "                   İÇ GİYİM AKSESUAR        BAYAN İNCE ÇORAP              170\n",
       "                                            ÇORAP                         434\n",
       "                                            İÇ ÇAMAŞIR                     21\n",
       "                   NaN                      NaN                           965\n",
       "GIDA               BAKLİYAT                 AÇIK BAKLİYAT               17657\n",
       "                                            PAKET BAKLİYAT               4279\n",
       "                   BAYRAMLIK                ÇİKOLATALAR                    34\n",
       "                                            ŞEKERLEME                     179\n",
       "                   BÜSKİVİ ÇEREZ            BÜSKİVİ                     46327\n",
       "                                            CİPS                         6411\n",
       "                                            KEK                         10268\n",
       "                                            KURU MEYVE                     14\n",
       "                                            KURUYEMİŞ                   11592\n",
       "                   CORBA BULYON             BULYONLAR                    1539\n",
       "                                            CORBALAR                     3816\n",
       "                                            ÇEŞNİLER                       70\n",
       "                   DONDURULMUŞ GIDA         DONDURULMUŞ GIDA             1814\n",
       "                   HAZIR YEMEKLER           HAZIR YEMEK                   563\n",
       "                                            KETÇAP MAYONEZ               2190\n",
       "                                            KONSERVE                     1812\n",
       "                                            MEZE                         3542\n",
       "                                            SALÇA                        2924\n",
       "                                            SİRKE SOS                    1789\n",
       "                                            TON BALIĞI                    564\n",
       "                                            TURŞU                        1569\n",
       "                                            NaN                           118\n",
       "                   MAKARNA                  DİĞER                        2987\n",
       "                                            MAKARNA                     13920\n",
       "                   SAKIZ SEKERLEME          SAKIZ                        4247\n",
       "                                            ŞEKERLEME                    2838\n",
       "                   SIVI YAĞLAR              AYÇİÇEK                      4475\n",
       "                                            FINDIK                        144\n",
       "                                            KANOLA                        221\n",
       "                                            KARIŞIM                        15\n",
       "                                            MISIRÖZÜ                      465\n",
       "                                            ZEYTİNYAĞI                    761\n",
       "                   TOZ TATLI                TOZ TATLI                    8189\n",
       "                   TUZ BAHARAT              BAHARAT                      4151\n",
       "                                            HARÇ                          390\n",
       "                                            SOS                           131\n",
       "                                            TUZ                          3102\n",
       "                   UNLU MAMÜLLER            EKMEK                        5588\n",
       "                                            KURABİYE GALETE GRİSİNİ      1671\n",
       "                                            PASTA MALZEMELERİ            1597\n",
       "                                            TATLILAR                     1017\n",
       "                                            TOZ TATLILAR                 2712\n",
       "                                            UN                           2815\n",
       "                   ÇİKOLATA                 ÇİKOLATA                       87\n",
       "                   ÇİKOLATA GOFRET          GOFRET                      30956\n",
       "KAĞIT              HASTA BAKIM ÜRÜNLERİ     HASTA BAKIM ÜRÜNLERİ          422\n",
       "                   HAVLU KAĞITLARI          HAVLU KAĞITLARI              2378\n",
       "                   HİJYENİK PEDLER          HİJYENİK PEDLER              3755\n",
       "                   ISLAK MENDİL HAVLU       ISLAK MENDİL HAVLU           4329\n",
       "                   KAĞIT MENDİLLER          KAĞIT MENDİLLER              2453\n",
       "                   KAĞIT PEÇETELER          KAĞIT PEÇETELER              4772\n",
       "                   WC KAĞITLARI             WC KAĞITLARI                 2834\n",
       "KOZMETİK           AĞIZ BAKIM               AĞIZ BAKIM                     43\n",
       "                                            AĞIZ SULARI                    89\n",
       "                                            DİŞ FIRÇASI                   830\n",
       "                                            DİŞ MACUNU                   2102\n",
       "                                            NaN                             1\n",
       "                   DUŞ BANYO                KATI SABUNLAR                3986\n",
       "                                            SIVI JEL SABUNLAR            2466\n",
       "                                            VÜCUT ŞAMPUANLARI             313\n",
       "                   MAKYAJ MALZEMELERİ       ASETON                         65\n",
       "                                            AĞDA                          510\n",
       "                                            MAKYAJ PAMUK                    3\n",
       "                                            MANİKUR PEDİKÜR ÜRÜNLERİ      292\n",
       "                                            SAÇ FIRÇASI                    78\n",
       "                                            NaN                           676\n",
       "                   PARFÜM DEODORANT         DEODORANT                     439\n",
       "                                            KOLANYALAR                    155\n",
       "                                            PARFÜM                          7\n",
       "                                            ROLL-ON                       263\n",
       "                                            STICK                         115\n",
       "                                            NaN                           194\n",
       "                   SAÇ BAKIM                SAÇ BOYALARI                  789\n",
       "                                            SEÇ ŞEKİLLENDİRİCİ            324\n",
       "                                            ŞAMPUAN SONRASI ÜRÜNLER       481\n",
       "                                            ŞAMPUANLAR                   2717\n",
       "                                            NaN                             4\n",
       "                   SAĞLIK                   CİNSEL                         73\n",
       "                   TRAŞ MALZEMELERİ         BAYAN BIÇAK AKSESUAR           21\n",
       "                                            TRAŞ ALETLERİ                1650\n",
       "                                            TRAŞ KÖPÜK KREM JELLER        342\n",
       "                                            TRAŞ SONRASI ÜRÜNLER           61\n",
       "                   VUCUT EL BAKIMI          KREMLER                       488\n",
       "                                            LOSYON SÜTLER                   1\n",
       "                                            NaN                            85\n",
       "                   YÜZ BAKIMI               YÜZ TEMİZLEME ÜRÜNLERİ          1\n",
       "                   NaN                      NaN                           454\n",
       "MEYVE SEBZE        MEYVE                    MEYVE                       23866\n",
       "                   SEBZE                    SEBZE                       63651\n",
       "PET                KEDİ MAMALARI            KEDİ MAMALARI                  17\n",
       "                   KUŞ MAMALARI             KUŞ MAMALARI                   13\n",
       "                   KÖPEK MAMALARI           KÖPEK MAMALARI                  1\n",
       "SÜT KAHVALTILIK    KAHVALTILIK              BAL                           437\n",
       "                                            GEVREK MÜSLİ                 1458\n",
       "                                            HELVA                        1701\n",
       "                                            KREM ÇİKOLATA                3565\n",
       "                                            REÇEL                        1166\n",
       "                                            TAHİN PEKMEZ                 1255\n",
       "                                            NaN                           384\n",
       "                   PEYNİR                   BEYAZ PEYNİR                 5569\n",
       "                                            KAŞAR PEYNİRİ                5124\n",
       "                                            ÖZEL-KREM PEYNİR             4546\n",
       "                   SÜT                      GÜNLÜK SÜT                    537\n",
       "                                            MEYVELİ SÜT                  2058\n",
       "                                            PASTÖRİZE SÜT               14350\n",
       "                   SÜTLÜ TATLILAR DONDURMA  DONDURMALAR                   441\n",
       "                                            KAYMAK                        399\n",
       "                                            SÜTLÜ TATLILAR               1529\n",
       "                   TEREYAĞ MARGARİN         MARGARİNLER                  6517\n",
       "                                            TEREYAĞ                      3569\n",
       "                   YOĞURT                   MEYVELİ YOĞURTLAR            1349\n",
       "                                            YOĞURTLAR                    7899\n",
       "                   YUMURTA                  NORMAL YUMURTA              10445\n",
       "                   ZEYTİN                   SİYAH ZEYTİN                 1810\n",
       "                                            YEŞİL ZEYTİN                 1052\n",
       "SİGARA             SİGARA                   SİGARA                      18390\n",
       "İÇECEK             GAZLI İÇECEK             COLA                         6630\n",
       "                                            ENERJİ İÇECEK                 155\n",
       "                                            GAZOZ                        2168\n",
       "                   GAZSIZ İÇECEK            BUZLU İÇECEK                 2640\n",
       "                                            KONSANTİRE İÇECEK              30\n",
       "                                            MEYVE SUYU                   8441\n",
       "                                            SPORCU İÇECEĞİ                 94\n",
       "                                            TOZ İÇECEK                     69\n",
       "                                            ŞALGAM SUYU                   404\n",
       "                   GÜNLÜK İÇECEK            AYRAN                        2914\n",
       "                   SU MADENSUYU             MADENSUYU                    5032\n",
       "                                            SU                          11795\n",
       "                   ÇAY KAHVE                KAHVE                       10118\n",
       "                                            SEKER TATLANDIRICI           4148\n",
       "                                            SÜTTOZU KREMA                 757\n",
       "                                            TOZ İÇECEKLER                 988\n",
       "                                            ÇAY                          9210\n",
       "dtype: int64"
      ]
     },
     "execution_count": 11,
     "metadata": {},
     "output_type": "execute_result"
    }
   ],
   "source": [
    "data.groupby(['CATEGORY_NAME1','CATEGORY_NAME2','CATEGORY_NAME3'], dropna=False).size()"
   ]
  },
  {
   "cell_type": "code",
   "execution_count": 14,
   "id": "88bbacbe-277d-4a4e-baaf-c3894d2d04d7",
   "metadata": {},
   "outputs": [
    {
     "data": {
      "text/plain": [
       "CATEGORY_NAME1\n",
       "BEBEK                  5245\n",
       "DETERJAN TEMİZLİK     22008\n",
       "ET TAVUK              18134\n",
       "EV                    11575\n",
       "GIDA                 211550\n",
       "KAĞIT                 20943\n",
       "KOZMETİK              20118\n",
       "MEYVE SEBZE           87517\n",
       "PET                      31\n",
       "SÜT KAHVALTILIK       77160\n",
       "SİGARA                18390\n",
       "İÇECEK                65593\n",
       "dtype: int64"
      ]
     },
     "execution_count": 14,
     "metadata": {},
     "output_type": "execute_result"
    }
   ],
   "source": [
    "data.groupby(['CATEGORY_NAME1'], dropna=False).size()"
   ]
  },
  {
   "cell_type": "code",
   "execution_count": 38,
   "id": "b3e9d63b-1d71-4bf1-a44e-96228269d341",
   "metadata": {},
   "outputs": [
    {
     "name": "stdout",
     "output_type": "stream",
     "text": [
      "        ID  ITEMCODE                         ITEMNAME  FICHENO       DATE_  AMOUNT  PRICE  LINENETTOTAL  LINENET  BRANCHNR           BRANCH       SALESMAN      CITY        REGION  LATITUDE  LONGITUDE  CLIENTCODE       CLIENTNAME BRANDCODE      BRAND CATEGORY_NAME1   CATEGORY_NAME2      CATEGORY_NAME3            STARTDATE              ENDDATE GENDER\n",
      "0 11738.00   5863.00  SPRITE 1 LT LIMON AROMALI GAZOZ    18456  2017-01-07    1.00   2.00          2.00     1.85     52.00   Kocaeli Subesi      Eyüp CİNE   Kocaeli       Marmara     40.85      29.88      467369   Sercan KIZILOK       156     SPRİTE         İÇECEK     GAZLI İÇECEK               GAZOZ  2017-01-08 16:16:11  2017-01-08 16:17:13      E\n",
      "1 11335.00   5979.00             FALIM SAKIZ 5LI NANE    18350  2017-01-03    1.00   0.40          0.40     0.37     40.00  İstanbul Subesi   İsmet SARTIK  İstanbul       Marmara     41.01      28.98      656969      Yağız KUBAL       300      FALIM           GIDA  SAKIZ SEKERLEME               SAKIZ  2017-01-04 14:00:03  2017-01-04 14:01:01      E\n",
      "2 11336.00   5979.00             FALIM SAKIZ 5LI NANE    18350  2017-01-03    1.00   0.40          0.40     0.37     40.00  İstanbul Subesi   İsmet SARTIK  İstanbul       Marmara     41.01      28.98      656969      Yağız KUBAL       300      FALIM           GIDA  SAKIZ SEKERLEME               SAKIZ  2017-01-04 14:00:03  2017-01-04 14:01:01      E\n",
      "3 10115.00  12808.00            FALIM SAKIZ 5LI CILEK    18005  2017-01-05    1.00   0.40          0.40     0.37     41.00     İzmir Subesi   Gülten IŞLAK     İzmir           Ege     38.42      27.13      447336     Habibe AYSAN       300      FALIM           GIDA  SAKIZ SEKERLEME               SAKIZ  2017-01-06 14:00:30  2017-01-06 14:01:03      K\n",
      "4 11845.00   3202.00          F NEFFIS TOZ SEKER 2 KG    18476  2017-01-07    1.00   5.60          5.60     5.19     55.00   Malatya Subesi  Gülcan DÜZGEÇ   Malatya  Doğu Anadolu     38.36      38.31        5481  Asel LÜLECİOĞLU        49   F NEFFİS         İÇECEK        ÇAY KAHVE  SEKER TATLANDIRICI  2017-01-08 17:20:53  2017-01-08 17:21:05      K\n"
     ]
    }
   ],
   "source": [
    "import pandas as pd\n",
    "\n",
    "# Doğru dosya yolu\n",
    "file_path = \"veriler.csv\"  # Çalışma dizininde olduğu için sadece dosya adını verdik\n",
    "\n",
    "# CSV dosyasını oku\n",
    "df = pd.read_csv(file_path)\n",
    "\n",
    "# İlk birkaç satırı görüntüle\n",
    "print(df.head())  # Eğer veriyi görmek istiyorsan, bunu kullan\n",
    "\n",
    "\n",
    "\n",
    "\n",
    "\n",
    "\n"
   ]
  },
  {
   "cell_type": "code",
   "execution_count": 1,
   "id": "ef963d5f-a02f-4568-a782-4b2f9c692a1f",
   "metadata": {},
   "outputs": [
    {
     "name": "stdout",
     "output_type": "stream",
     "text": [
      "                                 ITEMNAME   CATEGORY_NAME1  PRICE  ALIS_FIYATI\n",
      "0         SPRITE 1 LT LIMON AROMALI GAZOZ           İÇECEK   2.00         1.56\n",
      "1                    FALIM SAKIZ 5LI NANE             GIDA   0.40         0.33\n",
      "2                    FALIM SAKIZ 5LI NANE             GIDA   0.40         0.33\n",
      "3                   FALIM SAKIZ 5LI CILEK             GIDA   0.40         0.33\n",
      "4                 F NEFFIS TOZ SEKER 2 KG           İÇECEK   5.60         4.38\n",
      "5               F NEFFIS KESME SEKER 1 KG           İÇECEK   2.85         2.23\n",
      "6   KENT TOPITOP DISNEY CILEK KARPUZ 6 AD             GIDA   1.60         1.33\n",
      "7  VIVIDENT CZD FRUIT SWING 14 ADET 26 GR             GIDA   1.95         1.62\n",
      "8             LAVACHE QUIRIT UCGEN PEYNIR  SÜT KAHVALTILIK   3.45         2.92\n",
      "9                           KIRMIZI BIBER      MEYVE SEBZE   4.95         4.30\n",
      "✅ Güncellenmiş veri başarıyla kaydedildi: ime_market\\veriler_guncel.csv\n"
     ]
    }
   ],
   "source": [
    "import os\n",
    "import pandas as pd\n",
    "\n",
    "# Veri Setini Yükleyelim\n",
    "file_path = \"veriler.csv\"\n",
    "df = pd.read_csv(file_path)\n",
    "\n",
    "# Kategori Bazlı Kâr Marjlarını Tanımlayalım\n",
    "kar_marjlari = {\n",
    "    \"BEBEK\": 0.30,  \n",
    "    \"DETERJAN TEMİZLİK\": 0.25,\n",
    "    \"ET TAVUK\": 0.15,\n",
    "    \"EV\": 0.20,\n",
    "    \"GIDA\": 0.20,\n",
    "    \"KAĞIT\": 0.25,\n",
    "    \"KOZMETİK\": 0.40,\n",
    "    \"MEYVE SEBZE\": 0.15,\n",
    "    \"PET\": 0.35,\n",
    "    \"SÜT KAHVALTILIK\": 0.18,\n",
    "    \"SİGARA\": 0.10,\n",
    "    \"İÇECEK\": 0.28\n",
    "}\n",
    "\n",
    "# Her ITEMNAME İçin Kendi Kategorisine Göre Alış Fiyatı Hesaplayalım\n",
    "df[\"ALIS_FIYATI\"] = df.apply(\n",
    "    lambda x: round(x[\"PRICE\"] / (1 + kar_marjlari.get(x[\"CATEGORY_NAME1\"], 0.25)), 2), axis=1\n",
    ")\n",
    "\n",
    "# İlk 10 Satırı Ekrana Yazdıralım (2 basamaklı gösterim)\n",
    "print(df[[\"ITEMNAME\", \"CATEGORY_NAME1\", \"PRICE\", \"ALIS_FIYATI\"]].head(10))\n",
    "\n",
    "#  Güncellenmiş Veriyi Yeni CSV Olarak Kaydetmeden Önce Klasörü Kontrol Edelim\n",
    "output_dir = \"ime_market\"\n",
    "\n",
    "# Eğer \"ime_market\" klasörü yoksa oluşturalım\n",
    "if not os.path.exists(output_dir):\n",
    "    os.makedirs(output_dir)\n",
    "    print(f\"📂 '{output_dir}' klasörü oluşturuldu!\")\n",
    "\n",
    "# ✅ 6️⃣ CSV Dosyasını Kaydedelim\n",
    "output_path = os.path.join(output_dir, \"veriler_guncel.csv\")\n",
    "df.to_csv(output_path, index=False)\n",
    "\n",
    "print(f\"✅ Güncellenmiş veri başarıyla kaydedildi: {output_path}\")\n",
    "\n",
    "\n"
   ]
  },
  {
   "cell_type": "code",
   "execution_count": null,
   "id": "fd2f85f7-0581-4729-a9e2-ef32caac9d3a",
   "metadata": {},
   "outputs": [],
   "source": []
  },
  {
   "cell_type": "code",
   "execution_count": null,
   "id": "e3950a58-5755-4245-9198-87bf6decb4f3",
   "metadata": {},
   "outputs": [],
   "source": []
  },
  {
   "cell_type": "code",
   "execution_count": 2,
   "id": "f2eea138-c6d0-4ca1-9708-8265e19f8179",
   "metadata": {},
   "outputs": [
    {
     "name": "stdout",
     "output_type": "stream",
     "text": [
      "[WinError 3] Sistem belirtilen yolu bulamıyor: '/content/drive/MyDrive/market_analysis'\n",
      "C:\\Users\\cemre\\ime_market\n"
     ]
    }
   ],
   "source": [
    "%cd /content/drive/MyDrive/market_analysis\n"
   ]
  },
  {
   "cell_type": "code",
   "execution_count": null,
   "id": "5db86492-335a-453a-922b-004068e98558",
   "metadata": {},
   "outputs": [],
   "source": []
  }
 ],
 "metadata": {
  "kernelspec": {
   "display_name": "Python 3 (ipykernel)",
   "language": "python",
   "name": "python3"
  },
  "language_info": {
   "codemirror_mode": {
    "name": "ipython",
    "version": 3
   },
   "file_extension": ".py",
   "mimetype": "text/x-python",
   "name": "python",
   "nbconvert_exporter": "python",
   "pygments_lexer": "ipython3",
   "version": "3.12.7"
  }
 },
 "nbformat": 4,
 "nbformat_minor": 5
}
